{
 "cells": [
  {
   "cell_type": "markdown",
   "metadata": {},
   "source": [
    "# Linear Regression - Predicting the stock market"
   ]
  },
  {
   "cell_type": "markdown",
   "metadata": {},
   "source": [
    "## Cleaning"
   ]
  },
  {
   "cell_type": "code",
   "execution_count": 1,
   "metadata": {},
   "outputs": [],
   "source": [
    "import pandas as pd\n",
    "import numpy as np\n",
    "from datetime import datetime\n",
    "from sklearn.linear_model import LinearRegression\n",
    "from sklearn.metrics import mean_absolute_error, mean_squared_error\n",
    "from IPython.display import display"
   ]
  },
  {
   "cell_type": "code",
   "execution_count": 2,
   "metadata": {},
   "outputs": [
    {
     "data": {
      "text/html": [
       "<div>\n",
       "<style scoped>\n",
       "    .dataframe tbody tr th:only-of-type {\n",
       "        vertical-align: middle;\n",
       "    }\n",
       "\n",
       "    .dataframe tbody tr th {\n",
       "        vertical-align: top;\n",
       "    }\n",
       "\n",
       "    .dataframe thead th {\n",
       "        text-align: right;\n",
       "    }\n",
       "</style>\n",
       "<table border=\"1\" class=\"dataframe\">\n",
       "  <thead>\n",
       "    <tr style=\"text-align: right;\">\n",
       "      <th></th>\n",
       "      <th>Date</th>\n",
       "      <th>Open</th>\n",
       "      <th>High</th>\n",
       "      <th>Low</th>\n",
       "      <th>Close</th>\n",
       "      <th>Volume</th>\n",
       "      <th>Adj Close</th>\n",
       "    </tr>\n",
       "  </thead>\n",
       "  <tbody>\n",
       "    <tr>\n",
       "      <td>0</td>\n",
       "      <td>2015-12-07</td>\n",
       "      <td>2090.419922</td>\n",
       "      <td>2090.419922</td>\n",
       "      <td>2066.780029</td>\n",
       "      <td>2077.070068</td>\n",
       "      <td>4.043820e+09</td>\n",
       "      <td>2077.070068</td>\n",
       "    </tr>\n",
       "    <tr>\n",
       "      <td>1</td>\n",
       "      <td>2015-12-04</td>\n",
       "      <td>2051.239990</td>\n",
       "      <td>2093.840088</td>\n",
       "      <td>2051.239990</td>\n",
       "      <td>2091.689941</td>\n",
       "      <td>4.214910e+09</td>\n",
       "      <td>2091.689941</td>\n",
       "    </tr>\n",
       "    <tr>\n",
       "      <td>2</td>\n",
       "      <td>2015-12-03</td>\n",
       "      <td>2080.709961</td>\n",
       "      <td>2085.000000</td>\n",
       "      <td>2042.349976</td>\n",
       "      <td>2049.620117</td>\n",
       "      <td>4.306490e+09</td>\n",
       "      <td>2049.620117</td>\n",
       "    </tr>\n",
       "  </tbody>\n",
       "</table>\n",
       "</div>"
      ],
      "text/plain": [
       "         Date         Open         High          Low        Close  \\\n",
       "0  2015-12-07  2090.419922  2090.419922  2066.780029  2077.070068   \n",
       "1  2015-12-04  2051.239990  2093.840088  2051.239990  2091.689941   \n",
       "2  2015-12-03  2080.709961  2085.000000  2042.349976  2049.620117   \n",
       "\n",
       "         Volume    Adj Close  \n",
       "0  4.043820e+09  2077.070068  \n",
       "1  4.214910e+09  2091.689941  \n",
       "2  4.306490e+09  2049.620117  "
      ]
     },
     "execution_count": 2,
     "metadata": {},
     "output_type": "execute_result"
    }
   ],
   "source": [
    "df = pd.read_csv(\"sphist.csv\")\n",
    "df.head(3)"
   ]
  },
  {
   "cell_type": "code",
   "execution_count": 3,
   "metadata": {},
   "outputs": [
    {
     "name": "stdout",
     "output_type": "stream",
     "text": [
      "(16590, 7)\n"
     ]
    },
    {
     "data": {
      "text/html": [
       "<div>\n",
       "<style scoped>\n",
       "    .dataframe tbody tr th:only-of-type {\n",
       "        vertical-align: middle;\n",
       "    }\n",
       "\n",
       "    .dataframe tbody tr th {\n",
       "        vertical-align: top;\n",
       "    }\n",
       "\n",
       "    .dataframe thead th {\n",
       "        text-align: right;\n",
       "    }\n",
       "</style>\n",
       "<table border=\"1\" class=\"dataframe\">\n",
       "  <thead>\n",
       "    <tr style=\"text-align: right;\">\n",
       "      <th></th>\n",
       "      <th>Date</th>\n",
       "      <th>Open</th>\n",
       "      <th>High</th>\n",
       "      <th>Low</th>\n",
       "      <th>Close</th>\n",
       "      <th>Volume</th>\n",
       "      <th>Adj Close</th>\n",
       "    </tr>\n",
       "  </thead>\n",
       "  <tbody>\n",
       "    <tr>\n",
       "      <td>0</td>\n",
       "      <td>1950-01-03</td>\n",
       "      <td>16.66</td>\n",
       "      <td>16.66</td>\n",
       "      <td>16.66</td>\n",
       "      <td>16.66</td>\n",
       "      <td>1260000.0</td>\n",
       "      <td>16.66</td>\n",
       "    </tr>\n",
       "    <tr>\n",
       "      <td>1</td>\n",
       "      <td>1950-01-04</td>\n",
       "      <td>16.85</td>\n",
       "      <td>16.85</td>\n",
       "      <td>16.85</td>\n",
       "      <td>16.85</td>\n",
       "      <td>1890000.0</td>\n",
       "      <td>16.85</td>\n",
       "    </tr>\n",
       "    <tr>\n",
       "      <td>2</td>\n",
       "      <td>1950-01-05</td>\n",
       "      <td>16.93</td>\n",
       "      <td>16.93</td>\n",
       "      <td>16.93</td>\n",
       "      <td>16.93</td>\n",
       "      <td>2550000.0</td>\n",
       "      <td>16.93</td>\n",
       "    </tr>\n",
       "  </tbody>\n",
       "</table>\n",
       "</div>"
      ],
      "text/plain": [
       "        Date   Open   High    Low  Close     Volume  Adj Close\n",
       "0 1950-01-03  16.66  16.66  16.66  16.66  1260000.0      16.66\n",
       "1 1950-01-04  16.85  16.85  16.85  16.85  1890000.0      16.85\n",
       "2 1950-01-05  16.93  16.93  16.93  16.93  2550000.0      16.93"
      ]
     },
     "execution_count": 3,
     "metadata": {},
     "output_type": "execute_result"
    }
   ],
   "source": [
    "df['Date']= pd.to_datetime(df['Date']) # Usefull for later df_dates = df[df[\"Date\"] > datetime(year=2015, month=4, day=1)]\n",
    "df = df.sort_values(by = 'Date')\n",
    "df = df.reset_index(drop = True)\n",
    "print(df.shape)\n",
    "df.head(3)"
   ]
  },
  {
   "cell_type": "markdown",
   "metadata": {},
   "source": [
    "## Feature engineering"
   ]
  },
  {
   "cell_type": "code",
   "execution_count": 4,
   "metadata": {},
   "outputs": [
    {
     "data": {
      "text/html": [
       "<div>\n",
       "<style scoped>\n",
       "    .dataframe tbody tr th:only-of-type {\n",
       "        vertical-align: middle;\n",
       "    }\n",
       "\n",
       "    .dataframe tbody tr th {\n",
       "        vertical-align: top;\n",
       "    }\n",
       "\n",
       "    .dataframe thead th {\n",
       "        text-align: right;\n",
       "    }\n",
       "</style>\n",
       "<table border=\"1\" class=\"dataframe\">\n",
       "  <thead>\n",
       "    <tr style=\"text-align: right;\">\n",
       "      <th></th>\n",
       "      <th>Date</th>\n",
       "      <th>Open</th>\n",
       "      <th>High</th>\n",
       "      <th>Low</th>\n",
       "      <th>Close</th>\n",
       "      <th>Volume</th>\n",
       "      <th>Adj Close</th>\n",
       "      <th>Avg Open 5d</th>\n",
       "      <th>Avg High 5d</th>\n",
       "      <th>Avg Low 5d</th>\n",
       "      <th>Avg Vol 5d</th>\n",
       "      <th>Year</th>\n",
       "    </tr>\n",
       "  </thead>\n",
       "  <tbody>\n",
       "    <tr>\n",
       "      <td>0</td>\n",
       "      <td>1950-01-03</td>\n",
       "      <td>16.660000</td>\n",
       "      <td>16.660000</td>\n",
       "      <td>16.660000</td>\n",
       "      <td>16.660000</td>\n",
       "      <td>1260000.0</td>\n",
       "      <td>16.660000</td>\n",
       "      <td>NaN</td>\n",
       "      <td>NaN</td>\n",
       "      <td>NaN</td>\n",
       "      <td>NaN</td>\n",
       "      <td>1950</td>\n",
       "    </tr>\n",
       "    <tr>\n",
       "      <td>1</td>\n",
       "      <td>1950-01-04</td>\n",
       "      <td>16.850000</td>\n",
       "      <td>16.850000</td>\n",
       "      <td>16.850000</td>\n",
       "      <td>16.850000</td>\n",
       "      <td>1890000.0</td>\n",
       "      <td>16.850000</td>\n",
       "      <td>NaN</td>\n",
       "      <td>NaN</td>\n",
       "      <td>NaN</td>\n",
       "      <td>NaN</td>\n",
       "      <td>1950</td>\n",
       "    </tr>\n",
       "    <tr>\n",
       "      <td>2</td>\n",
       "      <td>1950-01-05</td>\n",
       "      <td>16.930000</td>\n",
       "      <td>16.930000</td>\n",
       "      <td>16.930000</td>\n",
       "      <td>16.930000</td>\n",
       "      <td>2550000.0</td>\n",
       "      <td>16.930000</td>\n",
       "      <td>NaN</td>\n",
       "      <td>NaN</td>\n",
       "      <td>NaN</td>\n",
       "      <td>NaN</td>\n",
       "      <td>1950</td>\n",
       "    </tr>\n",
       "    <tr>\n",
       "      <td>3</td>\n",
       "      <td>1950-01-06</td>\n",
       "      <td>16.980000</td>\n",
       "      <td>16.980000</td>\n",
       "      <td>16.980000</td>\n",
       "      <td>16.980000</td>\n",
       "      <td>2010000.0</td>\n",
       "      <td>16.980000</td>\n",
       "      <td>NaN</td>\n",
       "      <td>NaN</td>\n",
       "      <td>NaN</td>\n",
       "      <td>NaN</td>\n",
       "      <td>1950</td>\n",
       "    </tr>\n",
       "    <tr>\n",
       "      <td>4</td>\n",
       "      <td>1950-01-09</td>\n",
       "      <td>17.080000</td>\n",
       "      <td>17.080000</td>\n",
       "      <td>17.080000</td>\n",
       "      <td>17.080000</td>\n",
       "      <td>2520000.0</td>\n",
       "      <td>17.080000</td>\n",
       "      <td>NaN</td>\n",
       "      <td>NaN</td>\n",
       "      <td>NaN</td>\n",
       "      <td>NaN</td>\n",
       "      <td>1950</td>\n",
       "    </tr>\n",
       "    <tr>\n",
       "      <td>5</td>\n",
       "      <td>1950-01-10</td>\n",
       "      <td>17.030001</td>\n",
       "      <td>17.030001</td>\n",
       "      <td>17.030001</td>\n",
       "      <td>17.030001</td>\n",
       "      <td>2160000.0</td>\n",
       "      <td>17.030001</td>\n",
       "      <td>16.900</td>\n",
       "      <td>16.900</td>\n",
       "      <td>16.900</td>\n",
       "      <td>2046000.0</td>\n",
       "      <td>1950</td>\n",
       "    </tr>\n",
       "    <tr>\n",
       "      <td>6</td>\n",
       "      <td>1950-01-11</td>\n",
       "      <td>17.090000</td>\n",
       "      <td>17.090000</td>\n",
       "      <td>17.090000</td>\n",
       "      <td>17.090000</td>\n",
       "      <td>2630000.0</td>\n",
       "      <td>17.090000</td>\n",
       "      <td>16.974</td>\n",
       "      <td>16.974</td>\n",
       "      <td>16.974</td>\n",
       "      <td>2226000.0</td>\n",
       "      <td>1950</td>\n",
       "    </tr>\n",
       "  </tbody>\n",
       "</table>\n",
       "</div>"
      ],
      "text/plain": [
       "        Date       Open       High        Low      Close     Volume  \\\n",
       "0 1950-01-03  16.660000  16.660000  16.660000  16.660000  1260000.0   \n",
       "1 1950-01-04  16.850000  16.850000  16.850000  16.850000  1890000.0   \n",
       "2 1950-01-05  16.930000  16.930000  16.930000  16.930000  2550000.0   \n",
       "3 1950-01-06  16.980000  16.980000  16.980000  16.980000  2010000.0   \n",
       "4 1950-01-09  17.080000  17.080000  17.080000  17.080000  2520000.0   \n",
       "5 1950-01-10  17.030001  17.030001  17.030001  17.030001  2160000.0   \n",
       "6 1950-01-11  17.090000  17.090000  17.090000  17.090000  2630000.0   \n",
       "\n",
       "   Adj Close  Avg Open 5d  Avg High 5d  Avg Low 5d  Avg Vol 5d  Year  \n",
       "0  16.660000          NaN          NaN         NaN         NaN  1950  \n",
       "1  16.850000          NaN          NaN         NaN         NaN  1950  \n",
       "2  16.930000          NaN          NaN         NaN         NaN  1950  \n",
       "3  16.980000          NaN          NaN         NaN         NaN  1950  \n",
       "4  17.080000          NaN          NaN         NaN         NaN  1950  \n",
       "5  17.030001       16.900       16.900      16.900   2046000.0  1950  \n",
       "6  17.090000       16.974       16.974      16.974   2226000.0  1950  "
      ]
     },
     "execution_count": 4,
     "metadata": {},
     "output_type": "execute_result"
    }
   ],
   "source": [
    "# Creating indicators such as average price last 5 days\n",
    "# The average Open from the past 5 days.\n",
    "df['Avg Open 5d'] = df['Open'].rolling(window = 5).mean()\n",
    "df['Avg Open 5d'] = df['Avg Open 5d'].shift(periods=1)\n",
    "# The average High from the past 5 days.\n",
    "df['Avg High 5d'] = df['High'].rolling(window = 5).mean()\n",
    "df['Avg High 5d'] = df['Avg High 5d'].shift(periods=1)\n",
    "# The average Low from the past 5 days.\n",
    "df['Avg Low 5d'] = df['Low'].rolling(window = 5).mean()\n",
    "df['Avg Low 5d'] = df['Avg Low 5d'].shift(periods=1)\n",
    "# The average Volume from the past 5 days.\n",
    "df['Avg Vol 5d'] = df['Volume'].rolling(window = 5).mean()\n",
    "df['Avg Vol 5d'] = df['Avg Vol 5d'].shift(periods=1)\n",
    "# Year\n",
    "df['Year'] = df['Date'].apply(lambda x: x.year)\n",
    "\n",
    "df.head(7)"
   ]
  },
  {
   "cell_type": "code",
   "execution_count": 5,
   "metadata": {},
   "outputs": [
    {
     "name": "stdout",
     "output_type": "stream",
     "text": [
      "(16585, 12)\n"
     ]
    }
   ],
   "source": [
    "# Removing NaN (the first 5 rows from window 5 method)\n",
    "df = df[df[\"Date\"] >= datetime(year=1950, month=1, day=10)]\n",
    "# Removing other NaN\n",
    "df = df.dropna(axis = 0)\n",
    "print(df.shape)"
   ]
  },
  {
   "cell_type": "markdown",
   "metadata": {},
   "source": [
    "## Applying Linear Regression"
   ]
  },
  {
   "cell_type": "code",
   "execution_count": 6,
   "metadata": {},
   "outputs": [],
   "source": [
    "# Split\n",
    "train = df[df[\"Date\"] < datetime(year=2013, month=1, day=1)]\n",
    "test = df[df[\"Date\"] >= datetime(year=2013, month=1, day=1)]"
   ]
  },
  {
   "cell_type": "code",
   "execution_count": 7,
   "metadata": {},
   "outputs": [
    {
     "name": "stdout",
     "output_type": "stream",
     "text": [
      "mean_absolute_error =  14.594644448369127\n",
      "rmse =  19.464426623351724\n"
     ]
    }
   ],
   "source": [
    "# Predict\n",
    "features = ['Avg Open 5d', 'Avg High 5d', 'Avg Low 5d', 'Avg Vol 5d', 'Year']\n",
    "target = 'Close'\n",
    "reg = LinearRegression().fit(train[features], train[target])\n",
    "predictions = reg.predict(test[features])\n",
    "\n",
    "mean_absolute_error = np.mean(np.absolute(test[target] - predictions))\n",
    "mse = mean_squared_error(test[target], predictions)\n",
    "rmse = np.sqrt(mse)\n",
    "\n",
    "print('mean_absolute_error = ', mean_absolute_error)\n",
    "print('rmse = ', rmse)"
   ]
  },
  {
   "cell_type": "code",
   "execution_count": 8,
   "metadata": {},
   "outputs": [
    {
     "data": {
      "text/html": [
       "<div>\n",
       "<style scoped>\n",
       "    .dataframe tbody tr th:only-of-type {\n",
       "        vertical-align: middle;\n",
       "    }\n",
       "\n",
       "    .dataframe tbody tr th {\n",
       "        vertical-align: top;\n",
       "    }\n",
       "\n",
       "    .dataframe thead th {\n",
       "        text-align: right;\n",
       "    }\n",
       "</style>\n",
       "<table border=\"1\" class=\"dataframe\">\n",
       "  <thead>\n",
       "    <tr style=\"text-align: right;\">\n",
       "      <th></th>\n",
       "      <th>Date</th>\n",
       "      <th>Close</th>\n",
       "      <th>Predicted close price</th>\n",
       "      <th>Difference</th>\n",
       "      <th>Accuracy(%)</th>\n",
       "    </tr>\n",
       "  </thead>\n",
       "  <tbody>\n",
       "    <tr>\n",
       "      <td>16589</td>\n",
       "      <td>2015-12-07</td>\n",
       "      <td>2077.070068</td>\n",
       "      <td>2083.850839</td>\n",
       "      <td>6.780771</td>\n",
       "      <td>99.673542</td>\n",
       "    </tr>\n",
       "    <tr>\n",
       "      <td>16588</td>\n",
       "      <td>2015-12-04</td>\n",
       "      <td>2091.689941</td>\n",
       "      <td>2069.229331</td>\n",
       "      <td>-22.460610</td>\n",
       "      <td>98.926198</td>\n",
       "    </tr>\n",
       "    <tr>\n",
       "      <td>16587</td>\n",
       "      <td>2015-12-03</td>\n",
       "      <td>2049.620117</td>\n",
       "      <td>2085.902406</td>\n",
       "      <td>36.282289</td>\n",
       "      <td>98.229804</td>\n",
       "    </tr>\n",
       "    <tr>\n",
       "      <td>16586</td>\n",
       "      <td>2015-12-02</td>\n",
       "      <td>2079.510010</td>\n",
       "      <td>2090.749987</td>\n",
       "      <td>11.239977</td>\n",
       "      <td>99.459489</td>\n",
       "    </tr>\n",
       "    <tr>\n",
       "      <td>16585</td>\n",
       "      <td>2015-12-01</td>\n",
       "      <td>2102.629883</td>\n",
       "      <td>2081.031411</td>\n",
       "      <td>-21.598472</td>\n",
       "      <td>98.972788</td>\n",
       "    </tr>\n",
       "  </tbody>\n",
       "</table>\n",
       "</div>"
      ],
      "text/plain": [
       "            Date        Close  Predicted close price  Difference  Accuracy(%)\n",
       "16589 2015-12-07  2077.070068            2083.850839    6.780771    99.673542\n",
       "16588 2015-12-04  2091.689941            2069.229331  -22.460610    98.926198\n",
       "16587 2015-12-03  2049.620117            2085.902406   36.282289    98.229804\n",
       "16586 2015-12-02  2079.510010            2090.749987   11.239977    99.459489\n",
       "16585 2015-12-01  2102.629883            2081.031411  -21.598472    98.972788"
      ]
     },
     "execution_count": 8,
     "metadata": {},
     "output_type": "execute_result"
    }
   ],
   "source": [
    "# Results\n",
    "results = test.copy()\n",
    "results['Predicted close price'] = predictions\n",
    "results['Difference'] = results['Predicted close price'] - results['Close']\n",
    "results['Accuracy(%)'] = (1-np.abs(results['Difference'] / results['Close']))*100\n",
    "results = results.sort_values(by= ['Date'] , ascending = False)\n",
    "results = results.drop(columns =['Open', 'High', 'Low', 'Volume', 'Adj Close', 'Avg Open 5d', 'Avg High 5d', 'Avg Low 5d', 'Avg Vol 5d', 'Year'])\n",
    "results.head()"
   ]
  },
  {
   "cell_type": "markdown",
   "metadata": {},
   "source": [
    "## Other comments"
   ]
  },
  {
   "cell_type": "markdown",
   "metadata": {},
   "source": [
    "#### Other possible indicators we could have used"
   ]
  },
  {
   "cell_type": "code",
   "execution_count": 9,
   "metadata": {},
   "outputs": [],
   "source": [
    "# The standard deviation of the price over the past 5 days.\n",
    "df['std_dev_5d'] = df['Close'].rolling(window = 5).std()\n",
    "df['std_dev_5d'] = df['std_dev_5d'].shift(periods=1)\n",
    "# The average price from the past 5 days.\n",
    "df['avg_5d'] = df['Close'].rolling(window = 5).mean()\n",
    "df['avg_5d'] = df['avg_5d'].shift(periods=1)\n",
    "# The average price from the past 365 days.\n",
    "df['avg_365d'] = df['Close'].rolling(window = 365).mean()\n",
    "df['avg_365d'] = df['avg_365d'].shift(periods=1)\n",
    "# The standard deviation of the price over the past 5 days.\n",
    "df['std_dev_365d'] = df['Close'].rolling(window = 365).std()\n",
    "df['std_dev_365d'] = df['std_dev_365d'].shift(periods=1)\n",
    "# Ratio : average price past 5 days / average price past 365 days.\n",
    "df['5/365_avg'] = df['avg_5d'] / df['avg_365d']\n",
    "# Ratio : standard deviation price past 5 days / standard deviation price past 365 days.\n",
    "df['5/365_std_dev'] = df['std_dev_5d'] / df['std_dev_365d']"
   ]
  },
  {
   "cell_type": "markdown",
   "metadata": {},
   "source": [
    "#### More indicators that dataquest suggests to use:"
   ]
  },
  {
   "cell_type": "code",
   "execution_count": 10,
   "metadata": {},
   "outputs": [],
   "source": [
    "# The average volume over the past five days.\n",
    "# The average volume over the past year.\n",
    "# The ratio between the average volume for the past five days, and the average volume for the past year.\n",
    "# The standard deviation of the average volume over the past five days.\n",
    "# The standard deviation of the average volume over the past year.\n",
    "# The ratio between the standard deviation of the average volume for the past five days, and the standard deviation of the average volume for the past year.\n",
    "# The year component of the date.\n",
    "# The ratio between the lowest price in the past year and the current price.\n",
    "# The ratio between the highest price in the past year and the current price.\n",
    "# The month component of the date.\n",
    "# The day of week.\n",
    "# The day component of the date.\n",
    "# The number of holidays in the prior month."
   ]
  },
  {
   "cell_type": "markdown",
   "metadata": {},
   "source": [
    "#### Dataquest ideas for making a strong model"
   ]
  },
  {
   "cell_type": "markdown",
   "metadata": {},
   "source": [
    "There's a lot of things we can do on the indicator side. We can also make significant structural improvements to the algorithm and pull in data from other sources.\n",
    "\n",
    "Accuracy would improve greatly by making predictions only one day ahead. For example, train a model using data from 1951-01-03 to 2013-01-02, make predictions for 2013-01-03, and then train another model using data from 1951-01-03 to 2013-01-03, make predictions for 2013-01-04, and so on. This more closely simulates what you'd do if you were trading using the algorithm.\n",
    "\n",
    "You can also improve the algorithm used significantly. Try other techniques, like a random forest, and see if they perform better.\n",
    "\n",
    "You can also incorporate outside data, such as the weather in New York City (where most trading happens) the day before and the amount of Twitter activity around certain stocks.\n",
    "\n",
    "You can also make the system real-time by writing an automated script to download the latest data when the market closes and make predictions for the next day.\n",
    "\n",
    "Finally, you can make the system \"higher-resolution\". You're currently making daily predictions, but you could make hourly, minute-by-minute, or second-by-second predictions. This requires obtaining more data, though. You could also make predictions for individual stocks instead of the S&P500."
   ]
  }
 ],
 "metadata": {
  "kernelspec": {
   "display_name": "Python 3",
   "language": "python",
   "name": "python3"
  },
  "language_info": {
   "codemirror_mode": {
    "name": "ipython",
    "version": 3
   },
   "file_extension": ".py",
   "mimetype": "text/x-python",
   "name": "python",
   "nbconvert_exporter": "python",
   "pygments_lexer": "ipython3",
   "version": "3.7.4"
  }
 },
 "nbformat": 4,
 "nbformat_minor": 4
}
